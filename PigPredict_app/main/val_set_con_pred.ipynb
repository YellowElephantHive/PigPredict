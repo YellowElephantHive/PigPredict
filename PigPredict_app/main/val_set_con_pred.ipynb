{
 "cells": [
  {
   "cell_type": "code",
   "execution_count": null,
   "metadata": {},
   "outputs": [],
   "source": [
    "import tensorflow as tf\n",
    "import unittest\n",
    "import pickle\n",
    "import sys\n",
    "import os\n",
    "\n",
    "prj_root = os.path.join(os.getcwd(), os.pardir)\n",
    "sys.path.append(prj_root)\n",
    "from core.inverse_decoder import *\n",
    "from util.normalize import *"
   ]
  },
  {
   "cell_type": "code",
   "execution_count": null,
   "metadata": {},
   "outputs": [],
   "source": [
    "\"\"\" 參數設定 \"\"\"\n",
    "decoder_path = os.path.join(prj_root, 'resource', 'keras_model', 'keras_decoder_model')"
   ]
  },
  {
   "cell_type": "code",
   "execution_count": null,
   "metadata": {},
   "outputs": [],
   "source": [
    "\"\"\" load pickles \"\"\"\n",
    "lab_mean_path = os.path.join(prj_root, 'resource', 'pickled', 'lab_mean.pkl')\n",
    "lab_std_path = os.path.join(prj_root, 'resource', 'pickled', 'lab_std.pkl')\n",
    "concentration_path = os.path.join(prj_root, 'resource', 'pickled', 'decoder_x_val.pkl')\n",
    "lab_path = os.path.join(prj_root, 'resource', 'pickled', 'decoder_y_val.pkl')\n",
    "decoder_input_columns_path = os.path.join(prj_root, 'resource', 'pickled', 'decoder_input_columns.pkl')\n",
    "\n",
    "with open(lab_mean_path, 'rb') as f:\n",
    "    lab_mean = pickle.load(f)\n",
    "with open(lab_std_path, 'rb') as f:\n",
    "    lab_std = pickle.load(f)\n",
    "with open(concentration_path, 'rb') as f:\n",
    "    concentration = pickle.load(f)\n",
    "with open(lab_path, 'rb') as f:\n",
    "    lab = pickle.load(f)\n",
    "with open(decoder_input_columns_path, 'rb') as f:\n",
    "    decoder_input_columns = pickle.load(f)"
   ]
  },
  {
   "cell_type": "code",
   "execution_count": null,
   "metadata": {
    "scrolled": true
   },
   "outputs": [],
   "source": [
    "inverse_model = InverseDecoder(decoder_path, 200, epoch=1500)\n",
    "true_lab = unnormalize_lab(lab.copy().values)\n",
    "cons = []\n",
    "\n",
    "# build graph on tf default graph\n",
    "inverse_model.build_graph()\n",
    "\n",
    "with tf.Session() as sess:\n",
    "    \n",
    "    # init vars in tf default graph\n",
    "    inverse_model.init_model(sess)\n",
    "\n",
    "    for i in range(len(concentration)):\n",
    "        \n",
    "        t = concentration.iloc[i:i+1, :]\n",
    "        idx = np.where(concentration.iloc[i, :-3] > 0)[0]\n",
    "        dyes = [column.split('_')[1] for column in decoder_input_columns[idx]]\n",
    "\n",
    "        clothe_idx = len(decoder_input_columns) - 3 + np.where(concentration.iloc[i, -3:] > 0)[0]\n",
    "        clothe_type = decoder_input_columns[clothe_idx]\n",
    "        print(true_lab[i].tolist())\n",
    "        print(clothe_type)\n",
    "        # predicted concentration\n",
    "        con = inverse_model.predict_concentration(dyes,\n",
    "                                                  clothe_type,\n",
    "                                                  true_lab[i].tolist())\n",
    "        cons.append(con)"
   ]
  },
  {
   "cell_type": "code",
   "execution_count": null,
   "metadata": {},
   "outputs": [],
   "source": [
    "\"\"\" save pred for analysis in other programs \"\"\"\n",
    "pred = np.array(cons)\n",
    "with open(os.path.join(prj_root, 'resource', 'pickled', 'cons_pred.pkl'), 'wb') as f:\n",
    "    pickle.dump(pred, f)"
   ]
  }
 ],
 "metadata": {
  "kernelspec": {
   "display_name": "Python 3",
   "language": "python",
   "name": "python3"
  },
  "language_info": {
   "codemirror_mode": {
    "name": "ipython",
    "version": 3
   },
   "file_extension": ".py",
   "mimetype": "text/x-python",
   "name": "python",
   "nbconvert_exporter": "python",
   "pygments_lexer": "ipython3",
   "version": "3.6.5"
  }
 },
 "nbformat": 4,
 "nbformat_minor": 2
}
