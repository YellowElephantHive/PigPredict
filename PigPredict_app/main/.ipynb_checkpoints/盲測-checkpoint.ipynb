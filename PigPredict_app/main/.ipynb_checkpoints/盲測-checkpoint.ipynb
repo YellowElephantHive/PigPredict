{
 "cells": [
  {
   "cell_type": "code",
   "execution_count": null,
   "metadata": {},
   "outputs": [],
   "source": [
    "import sys\n",
    "import os\n",
    "import numpy as np\n",
    "import pandas as pd\n",
    "import random\n",
    "import datetime\n",
    "import time\n",
    "from argparse import ArgumentParser\n",
    "from skimage import color\n",
    "\n",
    "np.random.seed(88)\n",
    "random.seed = 88\n",
    "\n",
    "prj_root = os.path.join(os.getcwd(), os.pardir)\n",
    "sys.path.append(prj_root)\n",
    "import preprocess.dyeprocess as dyeprocess\n",
    "from util.dfutil import *\n",
    "from core.validator import validate\n",
    "from core.dyeselector import *\n",
    "from core.inverse_decoder import *\n",
    "from util.pickle_util import pm\n",
    "from util.config_util import cm"
   ]
  },
  {
   "cell_type": "code",
   "execution_count": null,
   "metadata": {},
   "outputs": [],
   "source": [
    "decoder_input_columns = pm.decoder_input_columns\n",
    "\n",
    "\"\"\" global vars \"\"\"\n",
    "DATA_FILE_ALL = os.path.join(prj_root, cm['general']['DataFileAll'])\n",
    "DATA_FILE_SINGLE = os.path.join(prj_root, cm['general']['DataFileSingle'])\n",
    "DECODER_PATH = os.path.join(prj_root, cm['general']['DecoderPath'])\n",
    "OUTPUT_DIR = os.path.join(prj_root, cm['general']['OutputDir'])\n",
    "con_dim = len(decoder_input_columns)\n",
    "clothe_type_count = int(cm['general']['ClotheTypeCount'])\n",
    "\n",
    "# for dye selector\n",
    "history_num_limit = 1\n",
    "max_collection_count = 1"
   ]
  },
  {
   "cell_type": "code",
   "execution_count": null,
   "metadata": {},
   "outputs": [],
   "source": [
    "# loading data for selecting dyes\n",
    "df_all = pd.read_csv(DATA_FILE_ALL)\n",
    "df_all = df_all[df_all['abort'] != 1]\n",
    "df_all = df_all[df_all['L'].notnull()]\n",
    "\n",
    "df_single = pd.read_csv(DATA_FILE_SINGLE)\n",
    "df_single = df_single[df_single['abort'] != 1]"
   ]
  },
  {
   "cell_type": "code",
   "execution_count": null,
   "metadata": {
    "scrolled": true
   },
   "outputs": [],
   "source": [
    "input_file=os.path.join(prj_root, 'data', '盲測標準樣0825.csv')\n",
    "df = pd.read_csv(input_file)\n",
    "df.iloc[-1]"
   ]
  },
  {
   "cell_type": "code",
   "execution_count": null,
   "metadata": {},
   "outputs": [],
   "source": [
    "inverse_decoder = InverseDecoder(DECODER_PATH, 100)\n",
    "inverse_decoder.build_graph()"
   ]
  },
  {
   "cell_type": "code",
   "execution_count": null,
   "metadata": {},
   "outputs": [],
   "source": [
    "dye_selector = DyeSelector(history_num_limit=history_num_limit,\n",
    "                           max_collection_count=max_collection_count)"
   ]
  },
  {
   "cell_type": "code",
   "execution_count": null,
   "metadata": {},
   "outputs": [],
   "source": [
    "df.loc[:, ['L','a','b','C','H']].values[[1]]"
   ]
  },
  {
   "cell_type": "code",
   "execution_count": null,
   "metadata": {},
   "outputs": [],
   "source": [
    "preds = []\n",
    "clothe = 'FVF2666'\n",
    "with tf.Session() as sess:\n",
    "    inverse_decoder.init_model(sess)\n",
    "    for labch in df.loc[:, ['L','a','b','C','H']].values:\n",
    "        print('labch', labch)\n",
    "        lab = labch[0:3]\n",
    "        possible_collections = dye_selector.get_possible_collections(df_all, df_single, labch)\n",
    "        print('possible_collections', possible_collections)\n",
    "        pred = inverse_decoder.predict_concentrations(possible_collections, clothe, lab)\n",
    "        pred[(pred < 5e-3) & (pred != 0)] = 1e-2\n",
    "        pred[pred > 3] = 3\n",
    "        preds.append(pred[0])\n",
    "\n",
    "preds = np.array(preds)"
   ]
  },
  {
   "cell_type": "code",
   "execution_count": null,
   "metadata": {},
   "outputs": [],
   "source": [
    "sess.close()"
   ]
  },
  {
   "cell_type": "code",
   "execution_count": null,
   "metadata": {},
   "outputs": [],
   "source": [
    "losses = inverse_decoder.lab_loss(preds, df.loc[:, ['L','a','b']].values)\n",
    "losses"
   ]
  },
  {
   "cell_type": "code",
   "execution_count": null,
   "metadata": {},
   "outputs": [],
   "source": [
    "df_output = process_output_csv(preds, losses, decoder_input_columns, clothe, clothe_type_count, False)\n",
    "df_output = pd.concat([df.loc[:,'LAB'], df_output], axis=1)\n",
    "df_output"
   ]
  },
  {
   "cell_type": "code",
   "execution_count": null,
   "metadata": {},
   "outputs": [],
   "source": [
    "output_path = os.path.join(prj_root, 'output', '盲測結果.csv')\n",
    "df_output.to_csv(output_path, index=False)"
   ]
  }
 ],
 "metadata": {
  "kernelspec": {
   "display_name": "Python 3",
   "language": "python",
   "name": "python3"
  },
  "language_info": {
   "codemirror_mode": {
    "name": "ipython",
    "version": 3
   },
   "file_extension": ".py",
   "mimetype": "text/x-python",
   "name": "python",
   "nbconvert_exporter": "python",
   "pygments_lexer": "ipython3",
   "version": "3.6.4"
  }
 },
 "nbformat": 4,
 "nbformat_minor": 2
}
