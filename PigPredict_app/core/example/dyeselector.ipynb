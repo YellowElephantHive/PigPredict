{
 "cells": [
  {
   "cell_type": "code",
   "execution_count": null,
   "metadata": {},
   "outputs": [],
   "source": [
    "import sys\n",
    "import os\n",
    "import random\n",
    "\n",
    "import numpy as np\n",
    "import pandas as pd\n",
    "import matplotlib.pyplot as plt\n",
    "from skimage.color import lab2rgb"
   ]
  },
  {
   "cell_type": "code",
   "execution_count": null,
   "metadata": {},
   "outputs": [],
   "source": [
    "'''import dyeselector'''\n",
    "prj_root = os.path.join(os.getcwd(), os.pardir, os.pardir)\n",
    "sys.path.append(prj_root)\n",
    "from core.dyeselector import * "
   ]
  },
  {
   "cell_type": "code",
   "execution_count": null,
   "metadata": {},
   "outputs": [],
   "source": [
    "'''read data'''\n",
    "DATA_FILE_ALL = os.path.join(prj_root, 'data', 'hong_make_all_revised_2.csv')\n",
    "DATA_FILE_SINGLE = os.path.join(prj_root, 'data', 'hong_make_single_revised_3.csv')"
   ]
  },
  {
   "cell_type": "code",
   "execution_count": null,
   "metadata": {},
   "outputs": [],
   "source": [
    "'''\n",
    "\n",
    "clean data\n",
    "TODO: clean no mixed data # sample color\n",
    "\n",
    "'''\n",
    "df_all = pd.read_csv(DATA_FILE_ALL)\n",
    "df_all = df_all[df_all['abort']!=1] \n",
    "df_all = df_all[df_all['L'].notnull()]\n",
    "df_all = df_all[np.logical_not(df_all['LAB'].str.contains('-\\s*0\\s*$', case=True, regex=True))]"
   ]
  },
  {
   "cell_type": "code",
   "execution_count": null,
   "metadata": {},
   "outputs": [],
   "source": [
    "df_single = pd.read_csv(DATA_FILE_SINGLE)\n",
    "df_single = df_single[df_single['abort']!=1]"
   ]
  },
  {
   "cell_type": "code",
   "execution_count": null,
   "metadata": {},
   "outputs": [],
   "source": [
    "'''\n",
    "\n",
    "sample target color\n",
    "# using: L182NN104-C\n",
    "\n",
    "OTHER TEST\n",
    "target_labch = [72.84, 26.72, 78.49, 82.91, 71.2]     # L183NN069\n",
    "target_labch = [75.67, 26.28, 77.55, 81.88, 71.28]    # L178NN019\n",
    "target_labch = [82.16, -23.48, 78.23, 81.67, 106.71]  # L182NN009\n",
    "target_labch = [63.65, 42.76, 68.51, 80.76, 58.03]    # L177NN212\n",
    "\n",
    "target_labch = [61.0, 110.0, -63.0, 115.6, 368.2]     # random\n",
    "target_labch = [20.0, -22.5, -97.5, 100.0, 260.0]     # random\n",
    "\n",
    "'''\n",
    "\n",
    "# target_labch = [63.68, 44.18, 69.1, 82.01, 57.4]"
   ]
  },
  {
   "cell_type": "code",
   "execution_count": null,
   "metadata": {},
   "outputs": [],
   "source": [
    "'''\n",
    "\n",
    "select color\n",
    "TODO: choose delta E more easily\n",
    "TODO: add delta E min\n",
    "\n",
    "'''\n",
    "dye_selector = DyeSelector(history_num_limit=1)\n",
    "possible_collections = dye_selector.get_possible_collections(df_all, df_single, target_labch)\n",
    "rows = dye_selector._dye_collections_from_history_rows\n",
    "# possible_collections\n",
    "# rows"
   ]
  },
  {
   "cell_type": "code",
   "execution_count": null,
   "metadata": {},
   "outputs": [],
   "source": [
    "\"\"\"single dye lab map\"\"\" \n",
    "\n",
    "df_single = df_single[df_single['布號'] == 'FVF2429']\n",
    "single_dye = df_single.iloc[:,36].values\n",
    "single_lab = df_single.iloc[:,31:34].values\n",
    "\n",
    "\"\"\"single rbg color\"\"\"\n",
    "single_shape = single_lab.shape\n",
    "single_lab_t = single_lab.reshape((1,) + single_shape)\n",
    "single_rbg = lab2rgb(lab=single_lab_t).reshape(single_shape)\n",
    "\n",
    "dye_color = {}\n",
    "for i in range(len(single_dye)):\n",
    "    if single_dye[i] not in dye_color:\n",
    "        dye_color[single_dye[i]] = [(single_lab[i], single_rbg[i])]\n",
    "    else:\n",
    "        dye_color[single_dye[i]].append((single_lab[i], single_rbg[i]))"
   ]
  },
  {
   "cell_type": "code",
   "execution_count": null,
   "metadata": {},
   "outputs": [],
   "source": [
    "target_lab = np.array([[target_labch[:3]]])\n",
    "target_rgb = lab2rgb(lab=target_lab).reshape((3))\n",
    "\n",
    "sym_lab = rows.iloc[0:1, 32:35].values.reshape(1, 1, 3)\n",
    "sym_rgb = lab2rgb(lab=sym_lab).reshape((3))\n",
    "\n",
    "target_rgb\n",
    "sym_rgb"
   ]
  },
  {
   "cell_type": "code",
   "execution_count": null,
   "metadata": {},
   "outputs": [],
   "source": [
    "# plot collections\n",
    "collect_num = len(possible_collections)\n",
    "\n",
    "fig, ax = plt.subplots()\n",
    "fig.set_size_inches(18.5, 10.5, forward=True)\n",
    "fontsize = 24\n",
    "\n",
    "def get_y(up, dw):\n",
    "    return [dw, dw, up, up]\n",
    "\n",
    "\n",
    "def get_x(left, right):\n",
    "    return [left, right, right, left]\n",
    "\n",
    "# draw target\n",
    "dw = (collect_num + 2) * 2\n",
    "up = dw + 1\n",
    "left = 0\n",
    "right = 20\n",
    "ax.fill(get_x(left, right), get_y(up, dw), c=target_rgb)\n",
    "ax.text(right - 3.1, dw + 0.1, 'target color', color='white', fontsize=fontsize)\n",
    "\n",
    "# draw nearst sample\n",
    "dw = (collect_num + 1) * 2\n",
    "up = dw + 1\n",
    "left = 0\n",
    "right = 20\n",
    "ax.fill(get_x(left, right), get_y(up, dw), c=sym_rgb)\n",
    "ax.text(right - 3.5, dw + 0.1, 'nearset color', color='white', fontsize=fontsize)\n",
    "\n",
    "# draw collections\n",
    "for i, collect in enumerate(possible_collections):\n",
    "    collect = list(collect)\n",
    "    dw_y = 2 * (collect_num - i) \n",
    "    up_y = dw_y + 1\n",
    "    \n",
    "    y = get_y(up_y, dw_y)\n",
    "\n",
    "    x_cnt = 0\n",
    "    for dye in collect:\n",
    "        if dye in dye_color:\n",
    "            for lab, rgb in dye_color[dye]:\n",
    "                left = x_cnt\n",
    "                right = x_cnt + 1\n",
    "                x = get_x(left, right)\n",
    "                x_cnt += 1\n",
    "                ax.fill(x, y, c=rgb)\n",
    "        else:\n",
    "            x_cnt += 4\n",
    "            right = x_cnt\n",
    "\n",
    "        ax.text(right + 0.2, dw_y, dye, fontsize=fontsize)    \n",
    "        x_cnt += 2.4\n",
    "\n",
    "plt.show()"
   ]
  },
  {
   "cell_type": "code",
   "execution_count": null,
   "metadata": {},
   "outputs": [],
   "source": []
  }
 ],
 "metadata": {
  "kernelspec": {
   "display_name": "Python 3",
   "language": "python",
   "name": "python3"
  },
  "language_info": {
   "codemirror_mode": {
    "name": "ipython",
    "version": 3
   },
   "file_extension": ".py",
   "mimetype": "text/x-python",
   "name": "python",
   "nbconvert_exporter": "python",
   "pygments_lexer": "ipython3",
   "version": "3.6.5"
  }
 },
 "nbformat": 4,
 "nbformat_minor": 2
}
